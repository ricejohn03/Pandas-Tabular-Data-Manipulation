{
  "nbformat": 4,
  "nbformat_minor": 0,
  "metadata": {
    "colab": {
      "name": "Simple_Tensorflow_Regression_Mpgdataset",
      "provenance": [],
      "collapsed_sections": []
    },
    "kernelspec": {
      "name": "python3",
      "display_name": "Python 3"
    }
  },
  "cells": [
    {
      "cell_type": "markdown",
      "metadata": {
        "id": "KcMKGJaP2AjA",
        "colab_type": "text"
      },
      "source": [
        "# Simple Tensorflow Regression \n",
        "MPG Dataset Regression"
      ]
    },
    {
      "cell_type": "code",
      "metadata": {
        "id": "IIcJ0eJ_1cA7",
        "colab_type": "code",
        "colab": {
          "base_uri": "https://localhost:8080/",
          "height": 250
        },
        "outputId": "b2893ebc-7e1c-4607-eaa3-4045922fbfa8"
      },
      "source": [
        "from tensorflow.keras.models import Sequential\n",
        "from tensorflow.keras.layers import Dense, Activation\n",
        "import pandas as pd\n",
        "import io\n",
        "import os\n",
        "import requests\n",
        "import numpy as np\n",
        "from sklearn import metrics\n",
        "\n",
        "df = pd.read_csv(\"http://blackboxai.us/ML/auto-mpg.csv\", na_values=['NA', '?'])\n",
        "df[0:5]"
      ],
      "execution_count": 5,
      "outputs": [
        {
          "output_type": "execute_result",
          "data": {
            "text/html": [
              "<div>\n",
              "<style scoped>\n",
              "    .dataframe tbody tr th:only-of-type {\n",
              "        vertical-align: middle;\n",
              "    }\n",
              "\n",
              "    .dataframe tbody tr th {\n",
              "        vertical-align: top;\n",
              "    }\n",
              "\n",
              "    .dataframe thead th {\n",
              "        text-align: right;\n",
              "    }\n",
              "</style>\n",
              "<table border=\"1\" class=\"dataframe\">\n",
              "  <thead>\n",
              "    <tr style=\"text-align: right;\">\n",
              "      <th></th>\n",
              "      <th>mpg</th>\n",
              "      <th>cylinders</th>\n",
              "      <th>displacement</th>\n",
              "      <th>horsepower</th>\n",
              "      <th>weight</th>\n",
              "      <th>acceleration</th>\n",
              "      <th>year</th>\n",
              "      <th>origin</th>\n",
              "      <th>name</th>\n",
              "    </tr>\n",
              "  </thead>\n",
              "  <tbody>\n",
              "    <tr>\n",
              "      <th>0</th>\n",
              "      <td>18.0</td>\n",
              "      <td>8</td>\n",
              "      <td>307.0</td>\n",
              "      <td>130.0</td>\n",
              "      <td>3504</td>\n",
              "      <td>12.0</td>\n",
              "      <td>70</td>\n",
              "      <td>1</td>\n",
              "      <td>chevrolet chevelle malibu</td>\n",
              "    </tr>\n",
              "    <tr>\n",
              "      <th>1</th>\n",
              "      <td>15.0</td>\n",
              "      <td>8</td>\n",
              "      <td>350.0</td>\n",
              "      <td>165.0</td>\n",
              "      <td>3693</td>\n",
              "      <td>11.5</td>\n",
              "      <td>70</td>\n",
              "      <td>1</td>\n",
              "      <td>buick skylark 320</td>\n",
              "    </tr>\n",
              "    <tr>\n",
              "      <th>2</th>\n",
              "      <td>18.0</td>\n",
              "      <td>8</td>\n",
              "      <td>318.0</td>\n",
              "      <td>150.0</td>\n",
              "      <td>3436</td>\n",
              "      <td>11.0</td>\n",
              "      <td>70</td>\n",
              "      <td>1</td>\n",
              "      <td>plymouth satellite</td>\n",
              "    </tr>\n",
              "    <tr>\n",
              "      <th>3</th>\n",
              "      <td>16.0</td>\n",
              "      <td>8</td>\n",
              "      <td>304.0</td>\n",
              "      <td>150.0</td>\n",
              "      <td>3433</td>\n",
              "      <td>12.0</td>\n",
              "      <td>70</td>\n",
              "      <td>1</td>\n",
              "      <td>amc rebel sst</td>\n",
              "    </tr>\n",
              "    <tr>\n",
              "      <th>4</th>\n",
              "      <td>17.0</td>\n",
              "      <td>8</td>\n",
              "      <td>302.0</td>\n",
              "      <td>140.0</td>\n",
              "      <td>3449</td>\n",
              "      <td>10.5</td>\n",
              "      <td>70</td>\n",
              "      <td>1</td>\n",
              "      <td>ford torino</td>\n",
              "    </tr>\n",
              "  </tbody>\n",
              "</table>\n",
              "</div>"
            ],
            "text/plain": [
              "    mpg  cylinders  displacement  ...  year  origin                       name\n",
              "0  18.0          8         307.0  ...    70       1  chevrolet chevelle malibu\n",
              "1  15.0          8         350.0  ...    70       1          buick skylark 320\n",
              "2  18.0          8         318.0  ...    70       1         plymouth satellite\n",
              "3  16.0          8         304.0  ...    70       1              amc rebel sst\n",
              "4  17.0          8         302.0  ...    70       1                ford torino\n",
              "\n",
              "[5 rows x 9 columns]"
            ]
          },
          "metadata": {
            "tags": []
          },
          "execution_count": 5
        }
      ]
    },
    {
      "cell_type": "code",
      "metadata": {
        "id": "EOwrmw3K4Sji",
        "colab_type": "code",
        "colab": {
          "base_uri": "https://localhost:8080/",
          "height": 35
        },
        "outputId": "c91469e4-6321-4418-8a42-6133905de866"
      },
      "source": [
        "cars = df['name']\n",
        "\n",
        "df['horsepower'] = df['horsepower'].fillna(df['horsepower'].median())\n",
        "\n",
        "df['horsepower'].isnull().values.any()"
      ],
      "execution_count": 9,
      "outputs": [
        {
          "output_type": "execute_result",
          "data": {
            "text/plain": [
              "False"
            ]
          },
          "metadata": {
            "tags": []
          },
          "execution_count": 9
        }
      ]
    },
    {
      "cell_type": "code",
      "metadata": {
        "id": "LQoOyeDw48Xs",
        "colab_type": "code",
        "colab": {}
      },
      "source": [
        "# break into x and y for training\n",
        "\n",
        "x = df[['cylinders', 'displacement', 'horsepower', 'weight', 'acceleration', 'year', 'origin']].values\n",
        "y = df['mpg'].values"
      ],
      "execution_count": 0,
      "outputs": []
    },
    {
      "cell_type": "code",
      "metadata": {
        "id": "P4aIbcYS5X75",
        "colab_type": "code",
        "colab": {
          "base_uri": "https://localhost:8080/",
          "height": 1000
        },
        "outputId": "e927f107-43cb-4dad-8485-be992593a617"
      },
      "source": [
        "#build model\n",
        "\n",
        "model = Sequential()\n",
        "model.add(Dense(25, input_dim=x.shape[1], activation='relu'))\n",
        "model.add(Dense(10, activation='relu'))\n",
        "model.add(Dense(1))\n",
        "\n",
        "model.compile(loss='mean_squared_error', optimizer='adam')\n",
        "model.fit(x,y, verbose=2, epochs=100)"
      ],
      "execution_count": 16,
      "outputs": [
        {
          "output_type": "stream",
          "text": [
            "Train on 398 samples\n",
            "Epoch 1/100\n",
            "398/398 - 1s - loss: 4648.5295\n",
            "Epoch 2/100\n",
            "398/398 - 0s - loss: 1201.6101\n",
            "Epoch 3/100\n",
            "398/398 - 0s - loss: 234.3136\n",
            "Epoch 4/100\n",
            "398/398 - 0s - loss: 114.5348\n",
            "Epoch 5/100\n",
            "398/398 - 0s - loss: 36.9385\n",
            "Epoch 6/100\n",
            "398/398 - 0s - loss: 18.2309\n",
            "Epoch 7/100\n",
            "398/398 - 0s - loss: 15.1617\n",
            "Epoch 8/100\n",
            "398/398 - 0s - loss: 15.0090\n",
            "Epoch 9/100\n",
            "398/398 - 0s - loss: 15.6932\n",
            "Epoch 10/100\n",
            "398/398 - 0s - loss: 14.1259\n",
            "Epoch 11/100\n",
            "398/398 - 0s - loss: 14.1898\n",
            "Epoch 12/100\n",
            "398/398 - 0s - loss: 14.2392\n",
            "Epoch 13/100\n",
            "398/398 - 0s - loss: 13.5241\n",
            "Epoch 14/100\n",
            "398/398 - 0s - loss: 14.4278\n",
            "Epoch 15/100\n",
            "398/398 - 0s - loss: 13.9355\n",
            "Epoch 16/100\n",
            "398/398 - 0s - loss: 13.2591\n",
            "Epoch 17/100\n",
            "398/398 - 0s - loss: 13.6646\n",
            "Epoch 18/100\n",
            "398/398 - 0s - loss: 13.5684\n",
            "Epoch 19/100\n",
            "398/398 - 0s - loss: 14.0241\n",
            "Epoch 20/100\n",
            "398/398 - 0s - loss: 13.2699\n",
            "Epoch 21/100\n",
            "398/398 - 0s - loss: 13.3896\n",
            "Epoch 22/100\n",
            "398/398 - 0s - loss: 13.5435\n",
            "Epoch 23/100\n",
            "398/398 - 0s - loss: 14.8222\n",
            "Epoch 24/100\n",
            "398/398 - 0s - loss: 13.4113\n",
            "Epoch 25/100\n",
            "398/398 - 0s - loss: 13.5612\n",
            "Epoch 26/100\n",
            "398/398 - 0s - loss: 13.0737\n",
            "Epoch 27/100\n",
            "398/398 - 0s - loss: 13.3977\n",
            "Epoch 28/100\n",
            "398/398 - 0s - loss: 12.6807\n",
            "Epoch 29/100\n",
            "398/398 - 0s - loss: 12.9322\n",
            "Epoch 30/100\n",
            "398/398 - 0s - loss: 13.4527\n",
            "Epoch 31/100\n",
            "398/398 - 0s - loss: 15.0076\n",
            "Epoch 32/100\n",
            "398/398 - 0s - loss: 17.6227\n",
            "Epoch 33/100\n",
            "398/398 - 0s - loss: 15.6895\n",
            "Epoch 34/100\n",
            "398/398 - 0s - loss: 15.9429\n",
            "Epoch 35/100\n",
            "398/398 - 0s - loss: 13.2649\n",
            "Epoch 36/100\n",
            "398/398 - 0s - loss: 12.9020\n",
            "Epoch 37/100\n",
            "398/398 - 0s - loss: 12.8467\n",
            "Epoch 38/100\n",
            "398/398 - 0s - loss: 12.8847\n",
            "Epoch 39/100\n",
            "398/398 - 0s - loss: 16.7701\n",
            "Epoch 40/100\n",
            "398/398 - 0s - loss: 13.9524\n",
            "Epoch 41/100\n",
            "398/398 - 0s - loss: 12.9293\n",
            "Epoch 42/100\n",
            "398/398 - 0s - loss: 12.8164\n",
            "Epoch 43/100\n",
            "398/398 - 0s - loss: 13.1416\n",
            "Epoch 44/100\n",
            "398/398 - 0s - loss: 13.5714\n",
            "Epoch 45/100\n",
            "398/398 - 0s - loss: 13.2716\n",
            "Epoch 46/100\n",
            "398/398 - 0s - loss: 16.7718\n",
            "Epoch 47/100\n",
            "398/398 - 0s - loss: 15.4278\n",
            "Epoch 48/100\n",
            "398/398 - 0s - loss: 15.0724\n",
            "Epoch 49/100\n",
            "398/398 - 0s - loss: 14.0758\n",
            "Epoch 50/100\n",
            "398/398 - 0s - loss: 14.2288\n",
            "Epoch 51/100\n",
            "398/398 - 0s - loss: 14.5572\n",
            "Epoch 52/100\n",
            "398/398 - 0s - loss: 15.0178\n",
            "Epoch 53/100\n",
            "398/398 - 0s - loss: 17.3401\n",
            "Epoch 54/100\n",
            "398/398 - 0s - loss: 17.3415\n",
            "Epoch 55/100\n",
            "398/398 - 0s - loss: 20.7498\n",
            "Epoch 56/100\n",
            "398/398 - 0s - loss: 18.4741\n",
            "Epoch 57/100\n",
            "398/398 - 0s - loss: 16.2286\n",
            "Epoch 58/100\n",
            "398/398 - 0s - loss: 13.7397\n",
            "Epoch 59/100\n",
            "398/398 - 0s - loss: 13.4348\n",
            "Epoch 60/100\n",
            "398/398 - 0s - loss: 13.2413\n",
            "Epoch 61/100\n",
            "398/398 - 0s - loss: 12.9274\n",
            "Epoch 62/100\n",
            "398/398 - 0s - loss: 13.0346\n",
            "Epoch 63/100\n",
            "398/398 - 0s - loss: 13.1108\n",
            "Epoch 64/100\n",
            "398/398 - 0s - loss: 15.1289\n",
            "Epoch 65/100\n",
            "398/398 - 0s - loss: 13.6666\n",
            "Epoch 66/100\n",
            "398/398 - 0s - loss: 12.7166\n",
            "Epoch 67/100\n",
            "398/398 - 0s - loss: 13.2728\n",
            "Epoch 68/100\n",
            "398/398 - 0s - loss: 13.2916\n",
            "Epoch 69/100\n",
            "398/398 - 0s - loss: 12.9378\n",
            "Epoch 70/100\n",
            "398/398 - 0s - loss: 14.4129\n",
            "Epoch 71/100\n",
            "398/398 - 0s - loss: 12.9005\n",
            "Epoch 72/100\n",
            "398/398 - 0s - loss: 15.7380\n",
            "Epoch 73/100\n",
            "398/398 - 0s - loss: 13.1987\n",
            "Epoch 74/100\n",
            "398/398 - 0s - loss: 13.3631\n",
            "Epoch 75/100\n",
            "398/398 - 0s - loss: 13.2772\n",
            "Epoch 76/100\n",
            "398/398 - 0s - loss: 14.0471\n",
            "Epoch 77/100\n",
            "398/398 - 0s - loss: 14.8804\n",
            "Epoch 78/100\n",
            "398/398 - 0s - loss: 15.2803\n",
            "Epoch 79/100\n",
            "398/398 - 0s - loss: 19.0537\n",
            "Epoch 80/100\n",
            "398/398 - 0s - loss: 17.6317\n",
            "Epoch 81/100\n",
            "398/398 - 0s - loss: 17.9403\n",
            "Epoch 82/100\n",
            "398/398 - 0s - loss: 12.9164\n",
            "Epoch 83/100\n",
            "398/398 - 0s - loss: 13.2999\n",
            "Epoch 84/100\n",
            "398/398 - 0s - loss: 13.5253\n",
            "Epoch 85/100\n",
            "398/398 - 0s - loss: 13.6903\n",
            "Epoch 86/100\n",
            "398/398 - 0s - loss: 15.6165\n",
            "Epoch 87/100\n",
            "398/398 - 0s - loss: 15.9045\n",
            "Epoch 88/100\n",
            "398/398 - 0s - loss: 13.6727\n",
            "Epoch 89/100\n",
            "398/398 - 0s - loss: 12.6343\n",
            "Epoch 90/100\n",
            "398/398 - 0s - loss: 14.9340\n",
            "Epoch 91/100\n",
            "398/398 - 0s - loss: 13.9799\n",
            "Epoch 92/100\n",
            "398/398 - 0s - loss: 13.8843\n",
            "Epoch 93/100\n",
            "398/398 - 0s - loss: 14.3454\n",
            "Epoch 94/100\n",
            "398/398 - 0s - loss: 13.9276\n",
            "Epoch 95/100\n",
            "398/398 - 0s - loss: 15.7129\n",
            "Epoch 96/100\n",
            "398/398 - 0s - loss: 14.0729\n",
            "Epoch 97/100\n",
            "398/398 - 0s - loss: 12.5357\n",
            "Epoch 98/100\n",
            "398/398 - 0s - loss: 13.6589\n",
            "Epoch 99/100\n",
            "398/398 - 0s - loss: 13.6069\n",
            "Epoch 100/100\n",
            "398/398 - 0s - loss: 13.4773\n"
          ],
          "name": "stdout"
        },
        {
          "output_type": "execute_result",
          "data": {
            "text/plain": [
              "<tensorflow.python.keras.callbacks.History at 0x7fa5cb9bac88>"
            ]
          },
          "metadata": {
            "tags": []
          },
          "execution_count": 16
        }
      ]
    },
    {
      "cell_type": "markdown",
      "metadata": {
        "id": "NpD_9Xem6XzW",
        "colab_type": "text"
      },
      "source": [
        "# Neural Network Hyperparameters\n",
        "If you look at the above code you will see that the neural network is made up of 4 layers. The first layer is the input layer. This is specified by input_dim and it is set to be the number of inputs that the dataset has. One input neuron is needed for ever input (including dummy variables). However, there are also several hidden layers, with 25 and 10 neurons each. You might be wondering how these numbers were chosen? This is one of the most common questions about neural networks. Unfortunately, there is not a good answer. These are hyperparameters. They are settings that can affect neural network performance, yet there is not a clearly defined means of setting them.\n",
        "\n",
        "In general, more hidden neurons mean more capability to fit to complex problems. However, too many neurons can lead to overfitting and lengthy training times. Too few can lead to underfitting the problem and will sacrifice accuracy. Also, how many layers you have is another hyperparameter. In general, more layers allow the neural network to be able to perform more of its own feature engineering and data preprocessing. But this also comes at the expense of training times and risk of overfitting. In general, you will see that neuron counts start out larger near the input layer and tend to shrink towards the output layer in a sort of triangular fashion.\n",
        "\n",
        "# Controlling the Amount of Output\n",
        "\n",
        "One line is produced for each training epoch. You can eliminate this output by setting the verbose setting of the fit command:\n",
        "\n",
        "verbose=0 - No progress output (use with Juputer if you do not want output)\n",
        "verbose=1 - Display progress bar, does not work well with Jupyter\n",
        "verbose=2 - Summary progress output (use with Jupyter if you want to know the loss at each epoch)\n",
        "\n",
        "\n",
        "# Regression Prediction\n",
        "\n",
        "Next, we will perform actual predictions. These predictions are assigned to the pred variable. These are all MPG predictions from the neural network. Notice that this is a 2D array? You can always see the dimensions of what is returned by printing out pred.shape. Neural networks can return multiple values, so the result is always an array. Here the neural network only returns 1 value per prediction (there are 398 cars, so 398 predictions). However, a 2D array is needed because the neural network has the potential of returning more than one value.\n"
      ]
    },
    {
      "cell_type": "code",
      "metadata": {
        "id": "a2B1kGWf6zC3",
        "colab_type": "code",
        "colab": {
          "base_uri": "https://localhost:8080/",
          "height": 126
        },
        "outputId": "6113130b-2d4b-4b54-e8a5-175dd0697ba8"
      },
      "source": [
        "pred = model.predict(x)\n",
        "print(\"Shape: {}\".format(pred.shape))\n",
        "print(pred[0:5])\n"
      ],
      "execution_count": 17,
      "outputs": [
        {
          "output_type": "stream",
          "text": [
            "Shape: (398, 1)\n",
            "[[16.667439]\n",
            " [14.977112]\n",
            " [16.95792 ]\n",
            " [17.119595]\n",
            " [16.950394]]\n"
          ],
          "name": "stdout"
        }
      ]
    },
    {
      "cell_type": "markdown",
      "metadata": {
        "id": "3xJBzEtv7Evv",
        "colab_type": "text"
      },
      "source": [
        "We would like to see how good these predictions are. We know what the correct MPG is for each car, so we can measure how close the neural network was."
      ]
    },
    {
      "cell_type": "code",
      "metadata": {
        "id": "gcLRGYvI7H3p",
        "colab_type": "code",
        "colab": {
          "base_uri": "https://localhost:8080/",
          "height": 35
        },
        "outputId": "3b7fa79d-bbaa-4855-e4bd-70cd030bb071"
      },
      "source": [
        "# Measure RMSE error.  RMSE is common for regression.\n",
        "score = np.sqrt(metrics.mean_squared_error(pred,y))\n",
        "print(f\"Final score (RMSE): {score}\")"
      ],
      "execution_count": 18,
      "outputs": [
        {
          "output_type": "stream",
          "text": [
            "Final score (RMSE): 3.5091692396876355\n"
          ],
          "name": "stdout"
        }
      ]
    },
    {
      "cell_type": "markdown",
      "metadata": {
        "id": "b7sVT6sj7TGh",
        "colab_type": "text"
      },
      "source": [
        "This means that, on average the predictions were within +/- 5.89 values of the correct value. This is not very good, but we will soon see how to improve it.\n",
        "\n",
        "We can also print out the first 10 cars, with predictions and actual MPG"
      ]
    },
    {
      "cell_type": "code",
      "metadata": {
        "id": "MWofwuNd7OZe",
        "colab_type": "code",
        "colab": {
          "base_uri": "https://localhost:8080/",
          "height": 199
        },
        "outputId": "488b185b-00dd-4466-a316-96937f4ad793"
      },
      "source": [
        "# Sample predictions\n",
        "for i in range(10):\n",
        "    print(f\"{i+1}. Car name: {cars[i]}, MPG: {y[i]}, predicted MPG: {pred[i]}\")"
      ],
      "execution_count": 21,
      "outputs": [
        {
          "output_type": "stream",
          "text": [
            "1. Car name: chevrolet chevelle malibu, MPG: 18.0, predicted MPG: [16.667439]\n",
            "2. Car name: buick skylark 320, MPG: 15.0, predicted MPG: [14.977112]\n",
            "3. Car name: plymouth satellite, MPG: 18.0, predicted MPG: [16.95792]\n",
            "4. Car name: amc rebel sst, MPG: 16.0, predicted MPG: [17.119595]\n",
            "5. Car name: ford torino, MPG: 17.0, predicted MPG: [16.950394]\n",
            "6. Car name: ford galaxie 500, MPG: 15.0, predicted MPG: [9.825745]\n",
            "7. Car name: chevrolet impala, MPG: 14.0, predicted MPG: [9.46888]\n",
            "8. Car name: plymouth fury iii, MPG: 14.0, predicted MPG: [9.819969]\n",
            "9. Car name: pontiac catalina, MPG: 14.0, predicted MPG: [9.017757]\n",
            "10. Car name: amc ambassador dpl, MPG: 15.0, predicted MPG: [13.393219]\n"
          ],
          "name": "stdout"
        }
      ]
    }
  ]
}