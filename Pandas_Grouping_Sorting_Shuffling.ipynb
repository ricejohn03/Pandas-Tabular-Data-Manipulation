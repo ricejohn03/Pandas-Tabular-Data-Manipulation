{
  "nbformat": 4,
  "nbformat_minor": 0,
  "metadata": {
    "colab": {
      "name": "Pandas_Grouping_Sorting_Shuffling.ipynb",
      "provenance": [],
      "collapsed_sections": []
    },
    "kernelspec": {
      "name": "python3",
      "display_name": "Python 3"
    }
  },
  "cells": [
    {
      "cell_type": "markdown",
      "metadata": {
        "id": "4bBYg2jtx9gz",
        "colab_type": "text"
      },
      "source": [
        "# Grouping, Sorting, and Shuffling\n",
        "\n",
        "shuffle dataset"
      ]
    },
    {
      "cell_type": "code",
      "metadata": {
        "id": "x5ucJLhBx8gg",
        "colab_type": "code",
        "outputId": "5dfc4930-43fd-4c50-ac98-da932021175b",
        "colab": {
          "base_uri": "https://localhost:8080/",
          "height": 486
        }
      },
      "source": [
        "import os \n",
        "import pandas as pd\n",
        "import numpy as np\n",
        "\n",
        "df = pd.read_csv(\n",
        "    \"https://data.heatonresearch.com/data/t81-558/auto-mpg.csv\", \n",
        "    na_values=['NA', '?'])\n",
        "  \n",
        "# to make the randomness repeteable\n",
        "np.random.seed(42)\n",
        "df = df.reindex(np.random.permutation(df.index))\n",
        "df.reset_index(inplace=True, drop=True)\n",
        "display(df[0:10])\n"
      ],
      "execution_count": 0,
      "outputs": [
        {
          "output_type": "display_data",
          "data": {
            "text/html": [
              "<div>\n",
              "<style scoped>\n",
              "    .dataframe tbody tr th:only-of-type {\n",
              "        vertical-align: middle;\n",
              "    }\n",
              "\n",
              "    .dataframe tbody tr th {\n",
              "        vertical-align: top;\n",
              "    }\n",
              "\n",
              "    .dataframe thead th {\n",
              "        text-align: right;\n",
              "    }\n",
              "</style>\n",
              "<table border=\"1\" class=\"dataframe\">\n",
              "  <thead>\n",
              "    <tr style=\"text-align: right;\">\n",
              "      <th></th>\n",
              "      <th>mpg</th>\n",
              "      <th>cylinders</th>\n",
              "      <th>displacement</th>\n",
              "      <th>horsepower</th>\n",
              "      <th>weight</th>\n",
              "      <th>acceleration</th>\n",
              "      <th>year</th>\n",
              "      <th>origin</th>\n",
              "      <th>name</th>\n",
              "    </tr>\n",
              "  </thead>\n",
              "  <tbody>\n",
              "    <tr>\n",
              "      <th>0</th>\n",
              "      <td>33.0</td>\n",
              "      <td>4</td>\n",
              "      <td>91.0</td>\n",
              "      <td>53.0</td>\n",
              "      <td>1795</td>\n",
              "      <td>17.4</td>\n",
              "      <td>76</td>\n",
              "      <td>3</td>\n",
              "      <td>honda civic</td>\n",
              "    </tr>\n",
              "    <tr>\n",
              "      <th>1</th>\n",
              "      <td>28.0</td>\n",
              "      <td>4</td>\n",
              "      <td>120.0</td>\n",
              "      <td>79.0</td>\n",
              "      <td>2625</td>\n",
              "      <td>18.6</td>\n",
              "      <td>82</td>\n",
              "      <td>1</td>\n",
              "      <td>ford ranger</td>\n",
              "    </tr>\n",
              "    <tr>\n",
              "      <th>2</th>\n",
              "      <td>19.0</td>\n",
              "      <td>6</td>\n",
              "      <td>232.0</td>\n",
              "      <td>100.0</td>\n",
              "      <td>2634</td>\n",
              "      <td>13.0</td>\n",
              "      <td>71</td>\n",
              "      <td>1</td>\n",
              "      <td>amc gremlin</td>\n",
              "    </tr>\n",
              "    <tr>\n",
              "      <th>3</th>\n",
              "      <td>13.0</td>\n",
              "      <td>8</td>\n",
              "      <td>318.0</td>\n",
              "      <td>150.0</td>\n",
              "      <td>3940</td>\n",
              "      <td>13.2</td>\n",
              "      <td>76</td>\n",
              "      <td>1</td>\n",
              "      <td>plymouth volare premier v8</td>\n",
              "    </tr>\n",
              "    <tr>\n",
              "      <th>4</th>\n",
              "      <td>14.0</td>\n",
              "      <td>8</td>\n",
              "      <td>318.0</td>\n",
              "      <td>150.0</td>\n",
              "      <td>4237</td>\n",
              "      <td>14.5</td>\n",
              "      <td>73</td>\n",
              "      <td>1</td>\n",
              "      <td>plymouth fury gran sedan</td>\n",
              "    </tr>\n",
              "    <tr>\n",
              "      <th>5</th>\n",
              "      <td>27.0</td>\n",
              "      <td>4</td>\n",
              "      <td>97.0</td>\n",
              "      <td>88.0</td>\n",
              "      <td>2100</td>\n",
              "      <td>16.5</td>\n",
              "      <td>72</td>\n",
              "      <td>3</td>\n",
              "      <td>toyota corolla 1600 (sw)</td>\n",
              "    </tr>\n",
              "    <tr>\n",
              "      <th>6</th>\n",
              "      <td>24.0</td>\n",
              "      <td>4</td>\n",
              "      <td>140.0</td>\n",
              "      <td>92.0</td>\n",
              "      <td>2865</td>\n",
              "      <td>16.4</td>\n",
              "      <td>82</td>\n",
              "      <td>1</td>\n",
              "      <td>ford fairmont futura</td>\n",
              "    </tr>\n",
              "    <tr>\n",
              "      <th>7</th>\n",
              "      <td>13.0</td>\n",
              "      <td>8</td>\n",
              "      <td>440.0</td>\n",
              "      <td>215.0</td>\n",
              "      <td>4735</td>\n",
              "      <td>11.0</td>\n",
              "      <td>73</td>\n",
              "      <td>1</td>\n",
              "      <td>chrysler new yorker brougham</td>\n",
              "    </tr>\n",
              "    <tr>\n",
              "      <th>8</th>\n",
              "      <td>17.0</td>\n",
              "      <td>8</td>\n",
              "      <td>260.0</td>\n",
              "      <td>110.0</td>\n",
              "      <td>4060</td>\n",
              "      <td>19.0</td>\n",
              "      <td>77</td>\n",
              "      <td>1</td>\n",
              "      <td>oldsmobile cutlass supreme</td>\n",
              "    </tr>\n",
              "    <tr>\n",
              "      <th>9</th>\n",
              "      <td>21.0</td>\n",
              "      <td>6</td>\n",
              "      <td>200.0</td>\n",
              "      <td>NaN</td>\n",
              "      <td>2875</td>\n",
              "      <td>17.0</td>\n",
              "      <td>74</td>\n",
              "      <td>1</td>\n",
              "      <td>ford maverick</td>\n",
              "    </tr>\n",
              "  </tbody>\n",
              "</table>\n",
              "</div>"
            ],
            "text/plain": [
              "    mpg  cylinders  displacement  ...  year  origin                          name\n",
              "0  33.0          4          91.0  ...    76       3                   honda civic\n",
              "1  28.0          4         120.0  ...    82       1                   ford ranger\n",
              "2  19.0          6         232.0  ...    71       1                   amc gremlin\n",
              "3  13.0          8         318.0  ...    76       1    plymouth volare premier v8\n",
              "4  14.0          8         318.0  ...    73       1      plymouth fury gran sedan\n",
              "5  27.0          4          97.0  ...    72       3      toyota corolla 1600 (sw)\n",
              "6  24.0          4         140.0  ...    82       1          ford fairmont futura\n",
              "7  13.0          8         440.0  ...    73       1  chrysler new yorker brougham\n",
              "8  17.0          8         260.0  ...    77       1    oldsmobile cutlass supreme\n",
              "9  21.0          6         200.0  ...    74       1                 ford maverick\n",
              "\n",
              "[10 rows x 9 columns]"
            ]
          },
          "metadata": {
            "tags": []
          }
        }
      ]
    },
    {
      "cell_type": "markdown",
      "metadata": {
        "id": "FDQoGc8qHwop",
        "colab_type": "text"
      },
      "source": [
        "The above data set can be used with group to perform summaries. For example, the following code will group cylinders by the average (mean). This code will provide the grouping. In addition to mean, other aggregating functions, such as sum or count can be used."
      ]
    },
    {
      "cell_type": "code",
      "metadata": {
        "id": "aQPZdxbWH7_i",
        "colab_type": "code",
        "outputId": "4fb9ed66-227f-41b4-e53c-b16212d2b7e5",
        "colab": {
          "base_uri": "https://localhost:8080/",
          "height": 145
        }
      },
      "source": [
        "g = df.groupby('cylinders')['mpg'].mean()\n",
        "g"
      ],
      "execution_count": 0,
      "outputs": [
        {
          "output_type": "execute_result",
          "data": {
            "text/plain": [
              "cylinders\n",
              "3    20.550000\n",
              "4    29.286765\n",
              "5    27.366667\n",
              "6    19.985714\n",
              "8    14.963107\n",
              "Name: mpg, dtype: float64"
            ]
          },
          "metadata": {
            "tags": []
          },
          "execution_count": 3
        }
      ]
    },
    {
      "cell_type": "code",
      "metadata": {
        "id": "zW9sRmeTIYL6",
        "colab_type": "code",
        "outputId": "5c812bc7-805f-44c1-8b6a-8a63a597ebfd",
        "colab": {
          "base_uri": "https://localhost:8080/",
          "height": 108
        }
      },
      "source": [
        "d = g.to_dict()\n",
        "d"
      ],
      "execution_count": 0,
      "outputs": [
        {
          "output_type": "execute_result",
          "data": {
            "text/plain": [
              "{3: 20.55,\n",
              " 4: 29.28676470588236,\n",
              " 5: 27.366666666666664,\n",
              " 6: 19.98571428571429,\n",
              " 8: 14.963106796116502}"
            ]
          },
          "metadata": {
            "tags": []
          },
          "execution_count": 7
        }
      ]
    },
    {
      "cell_type": "code",
      "metadata": {
        "id": "iBaNsdFlIfTQ",
        "colab_type": "code",
        "outputId": "a50ce247-dee6-44eb-82a1-8327bb3c069d",
        "colab": {
          "base_uri": "https://localhost:8080/",
          "height": 35
        }
      },
      "source": [
        "d[6]"
      ],
      "execution_count": 0,
      "outputs": [
        {
          "output_type": "execute_result",
          "data": {
            "text/plain": [
              "19.98571428571429"
            ]
          },
          "metadata": {
            "tags": []
          },
          "execution_count": 9
        }
      ]
    },
    {
      "cell_type": "code",
      "metadata": {
        "id": "KPXNGR1uIrfa",
        "colab_type": "code",
        "outputId": "f32dba02-562f-476d-f87e-02be438ea190",
        "colab": {
          "base_uri": "https://localhost:8080/",
          "height": 1000
        }
      },
      "source": [
        "df.groupby('horsepower')['cylinders'].count().to_dict()"
      ],
      "execution_count": 0,
      "outputs": [
        {
          "output_type": "execute_result",
          "data": {
            "text/plain": [
              "{46.0: 2,\n",
              " 48.0: 3,\n",
              " 49.0: 1,\n",
              " 52.0: 4,\n",
              " 53.0: 2,\n",
              " 54.0: 1,\n",
              " 58.0: 2,\n",
              " 60.0: 5,\n",
              " 61.0: 1,\n",
              " 62.0: 2,\n",
              " 63.0: 3,\n",
              " 64.0: 1,\n",
              " 65.0: 10,\n",
              " 66.0: 1,\n",
              " 67.0: 12,\n",
              " 68.0: 6,\n",
              " 69.0: 3,\n",
              " 70.0: 12,\n",
              " 71.0: 5,\n",
              " 72.0: 6,\n",
              " 74.0: 3,\n",
              " 75.0: 14,\n",
              " 76.0: 4,\n",
              " 77.0: 1,\n",
              " 78.0: 6,\n",
              " 79.0: 2,\n",
              " 80.0: 7,\n",
              " 81.0: 2,\n",
              " 82.0: 1,\n",
              " 83.0: 4,\n",
              " 84.0: 6,\n",
              " 85.0: 9,\n",
              " 86.0: 5,\n",
              " 87.0: 2,\n",
              " 88.0: 19,\n",
              " 89.0: 1,\n",
              " 90.0: 20,\n",
              " 91.0: 1,\n",
              " 92.0: 6,\n",
              " 93.0: 1,\n",
              " 94.0: 1,\n",
              " 95.0: 14,\n",
              " 96.0: 3,\n",
              " 97.0: 9,\n",
              " 98.0: 2,\n",
              " 100.0: 17,\n",
              " 102.0: 1,\n",
              " 103.0: 1,\n",
              " 105.0: 12,\n",
              " 107.0: 1,\n",
              " 108.0: 1,\n",
              " 110.0: 18,\n",
              " 112.0: 3,\n",
              " 113.0: 1,\n",
              " 115.0: 5,\n",
              " 116.0: 1,\n",
              " 120.0: 4,\n",
              " 122.0: 1,\n",
              " 125.0: 3,\n",
              " 129.0: 2,\n",
              " 130.0: 5,\n",
              " 132.0: 1,\n",
              " 133.0: 1,\n",
              " 135.0: 1,\n",
              " 137.0: 1,\n",
              " 138.0: 1,\n",
              " 139.0: 2,\n",
              " 140.0: 7,\n",
              " 142.0: 1,\n",
              " 145.0: 7,\n",
              " 148.0: 1,\n",
              " 149.0: 1,\n",
              " 150.0: 22,\n",
              " 152.0: 1,\n",
              " 153.0: 2,\n",
              " 155.0: 2,\n",
              " 158.0: 1,\n",
              " 160.0: 2,\n",
              " 165.0: 4,\n",
              " 167.0: 1,\n",
              " 170.0: 5,\n",
              " 175.0: 5,\n",
              " 180.0: 5,\n",
              " 190.0: 3,\n",
              " 193.0: 1,\n",
              " 198.0: 2,\n",
              " 200.0: 1,\n",
              " 208.0: 1,\n",
              " 210.0: 1,\n",
              " 215.0: 3,\n",
              " 220.0: 1,\n",
              " 225.0: 3,\n",
              " 230.0: 1}"
            ]
          },
          "metadata": {
            "tags": []
          },
          "execution_count": 11
        }
      ]
    }
  ]
}