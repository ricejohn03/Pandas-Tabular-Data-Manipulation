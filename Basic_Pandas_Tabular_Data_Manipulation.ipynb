{
  "nbformat": 4,
  "nbformat_minor": 0,
  "metadata": {
    "colab": {
      "name": " Basic Pandas Tabular Data Manipulation.ipynb",
      "provenance": [],
      "collapsed_sections": [],
      "include_colab_link": true
    },
    "kernelspec": {
      "name": "python3",
      "display_name": "Python 3"
    }
  },
  "cells": [
    {
      "cell_type": "markdown",
      "metadata": {
        "id": "view-in-github",
        "colab_type": "text"
      },
      "source": [
        "<a href=\"https://colab.research.google.com/github/ricejohn03/Pandas-Tabular-Data-Manipulation/blob/master/Basic_Pandas_Tabular_Data_Manipulation.ipynb\" target=\"_parent\"><img src=\"https://colab.research.google.com/assets/colab-badge.svg\" alt=\"Open In Colab\"/></a>"
      ]
    },
    {
      "cell_type": "markdown",
      "metadata": {
        "id": "xLW9DgvZzrSX",
        "colab_type": "text"
      },
      "source": [
        "\n",
        "\n",
        "# Basic Pandas Tabular Data Manipulation\n",
        "\n",
        "MPG auto dataset"
      ]
    },
    {
      "cell_type": "code",
      "metadata": {
        "id": "tEJgmHRYnfFd",
        "colab_type": "code",
        "outputId": "90b892b8-9ac8-4a73-e633-0f21f31f03b9",
        "colab": {
          "base_uri": "https://localhost:8080/",
          "height": 250
        }
      },
      "source": [
        "import pandas as pd\n",
        "\n",
        "df = pd.read_csv(\"https://data.heatonresearch.com/data/t81-558/auto-mpg.csv\")\n",
        "df[0:5]"
      ],
      "execution_count": 0,
      "outputs": [
        {
          "output_type": "execute_result",
          "data": {
            "text/html": [
              "<div>\n",
              "<style scoped>\n",
              "    .dataframe tbody tr th:only-of-type {\n",
              "        vertical-align: middle;\n",
              "    }\n",
              "\n",
              "    .dataframe tbody tr th {\n",
              "        vertical-align: top;\n",
              "    }\n",
              "\n",
              "    .dataframe thead th {\n",
              "        text-align: right;\n",
              "    }\n",
              "</style>\n",
              "<table border=\"1\" class=\"dataframe\">\n",
              "  <thead>\n",
              "    <tr style=\"text-align: right;\">\n",
              "      <th></th>\n",
              "      <th>mpg</th>\n",
              "      <th>cylinders</th>\n",
              "      <th>displacement</th>\n",
              "      <th>horsepower</th>\n",
              "      <th>weight</th>\n",
              "      <th>acceleration</th>\n",
              "      <th>year</th>\n",
              "      <th>origin</th>\n",
              "      <th>name</th>\n",
              "    </tr>\n",
              "  </thead>\n",
              "  <tbody>\n",
              "    <tr>\n",
              "      <th>0</th>\n",
              "      <td>18.0</td>\n",
              "      <td>8</td>\n",
              "      <td>307.0</td>\n",
              "      <td>130</td>\n",
              "      <td>3504</td>\n",
              "      <td>12.0</td>\n",
              "      <td>70</td>\n",
              "      <td>1</td>\n",
              "      <td>chevrolet chevelle malibu</td>\n",
              "    </tr>\n",
              "    <tr>\n",
              "      <th>1</th>\n",
              "      <td>15.0</td>\n",
              "      <td>8</td>\n",
              "      <td>350.0</td>\n",
              "      <td>165</td>\n",
              "      <td>3693</td>\n",
              "      <td>11.5</td>\n",
              "      <td>70</td>\n",
              "      <td>1</td>\n",
              "      <td>buick skylark 320</td>\n",
              "    </tr>\n",
              "    <tr>\n",
              "      <th>2</th>\n",
              "      <td>18.0</td>\n",
              "      <td>8</td>\n",
              "      <td>318.0</td>\n",
              "      <td>150</td>\n",
              "      <td>3436</td>\n",
              "      <td>11.0</td>\n",
              "      <td>70</td>\n",
              "      <td>1</td>\n",
              "      <td>plymouth satellite</td>\n",
              "    </tr>\n",
              "    <tr>\n",
              "      <th>3</th>\n",
              "      <td>16.0</td>\n",
              "      <td>8</td>\n",
              "      <td>304.0</td>\n",
              "      <td>150</td>\n",
              "      <td>3433</td>\n",
              "      <td>12.0</td>\n",
              "      <td>70</td>\n",
              "      <td>1</td>\n",
              "      <td>amc rebel sst</td>\n",
              "    </tr>\n",
              "    <tr>\n",
              "      <th>4</th>\n",
              "      <td>17.0</td>\n",
              "      <td>8</td>\n",
              "      <td>302.0</td>\n",
              "      <td>140</td>\n",
              "      <td>3449</td>\n",
              "      <td>10.5</td>\n",
              "      <td>70</td>\n",
              "      <td>1</td>\n",
              "      <td>ford torino</td>\n",
              "    </tr>\n",
              "  </tbody>\n",
              "</table>\n",
              "</div>"
            ],
            "text/plain": [
              "    mpg  cylinders  displacement  ... year  origin                       name\n",
              "0  18.0          8         307.0  ...   70       1  chevrolet chevelle malibu\n",
              "1  15.0          8         350.0  ...   70       1          buick skylark 320\n",
              "2  18.0          8         318.0  ...   70       1         plymouth satellite\n",
              "3  16.0          8         304.0  ...   70       1              amc rebel sst\n",
              "4  17.0          8         302.0  ...   70       1                ford torino\n",
              "\n",
              "[5 rows x 9 columns]"
            ]
          },
          "metadata": {
            "tags": []
          },
          "execution_count": 33
        }
      ]
    },
    {
      "cell_type": "code",
      "metadata": {
        "id": "H9cCeJZMoZqi",
        "colab_type": "code",
        "outputId": "03c88834-3259-4abf-aadf-efdee10c36ea",
        "colab": {
          "base_uri": "https://localhost:8080/",
          "height": 165
        }
      },
      "source": [
        "# Strip non-numerics\n",
        "df = df.select_dtypes(include=['int', 'float'])\n",
        "\n",
        "headers = list(df.columns.values)\n",
        "fields = []\n",
        "\n",
        "for field in headers:\n",
        "    fields.append({\n",
        "        'name' : field,\n",
        "        'mean': df[field].mean(),\n",
        "        'var': df[field].var(),\n",
        "        'sdev': df[field].std()\n",
        "    })\n",
        "\n",
        "for field in fields:\n",
        "    print(field)"
      ],
      "execution_count": 0,
      "outputs": [
        {
          "output_type": "stream",
          "text": [
            "{'name': 'mpg', 'mean': 23.514572864321615, 'var': 61.089610774274405, 'sdev': 7.815984312565782}\n",
            "{'name': 'cylinders', 'mean': 5.454773869346734, 'var': 2.8934154399199943, 'sdev': 1.7010042445332094}\n",
            "{'name': 'displacement', 'mean': 193.42587939698493, 'var': 10872.199152247364, 'sdev': 104.26983817119581}\n",
            "{'name': 'weight', 'mean': 2970.424623115578, 'var': 717140.9905256768, 'sdev': 846.8417741973271}\n",
            "{'name': 'acceleration', 'mean': 15.568090452261291, 'var': 7.604848233611381, 'sdev': 2.7576889298126757}\n",
            "{'name': 'year', 'mean': 76.01005025125629, 'var': 13.672442818627143, 'sdev': 3.697626646732623}\n",
            "{'name': 'origin', 'mean': 1.5728643216080402, 'var': 0.6432920268850575, 'sdev': 0.8020548777266163}\n"
          ],
          "name": "stdout"
        }
      ]
    },
    {
      "cell_type": "code",
      "metadata": {
        "id": "oFpcDHGwrBam",
        "colab_type": "code",
        "outputId": "ad076fb3-3ecf-44be-b765-e484fbd6bf00",
        "colab": {
          "base_uri": "https://localhost:8080/",
          "height": 258
        }
      },
      "source": [
        "df = pd.DataFrame(fields)\n",
        "df"
      ],
      "execution_count": 0,
      "outputs": [
        {
          "output_type": "execute_result",
          "data": {
            "text/html": [
              "<div>\n",
              "<style scoped>\n",
              "    .dataframe tbody tr th:only-of-type {\n",
              "        vertical-align: middle;\n",
              "    }\n",
              "\n",
              "    .dataframe tbody tr th {\n",
              "        vertical-align: top;\n",
              "    }\n",
              "\n",
              "    .dataframe thead th {\n",
              "        text-align: right;\n",
              "    }\n",
              "</style>\n",
              "<table border=\"1\" class=\"dataframe\">\n",
              "  <thead>\n",
              "    <tr style=\"text-align: right;\">\n",
              "      <th></th>\n",
              "      <th>mean</th>\n",
              "      <th>name</th>\n",
              "      <th>sdev</th>\n",
              "      <th>var</th>\n",
              "    </tr>\n",
              "  </thead>\n",
              "  <tbody>\n",
              "    <tr>\n",
              "      <th>0</th>\n",
              "      <td>23.514573</td>\n",
              "      <td>mpg</td>\n",
              "      <td>7.815984</td>\n",
              "      <td>61.089611</td>\n",
              "    </tr>\n",
              "    <tr>\n",
              "      <th>1</th>\n",
              "      <td>5.454774</td>\n",
              "      <td>cylinders</td>\n",
              "      <td>1.701004</td>\n",
              "      <td>2.893415</td>\n",
              "    </tr>\n",
              "    <tr>\n",
              "      <th>2</th>\n",
              "      <td>193.425879</td>\n",
              "      <td>displacement</td>\n",
              "      <td>104.269838</td>\n",
              "      <td>10872.199152</td>\n",
              "    </tr>\n",
              "    <tr>\n",
              "      <th>3</th>\n",
              "      <td>2970.424623</td>\n",
              "      <td>weight</td>\n",
              "      <td>846.841774</td>\n",
              "      <td>717140.990526</td>\n",
              "    </tr>\n",
              "    <tr>\n",
              "      <th>4</th>\n",
              "      <td>15.568090</td>\n",
              "      <td>acceleration</td>\n",
              "      <td>2.757689</td>\n",
              "      <td>7.604848</td>\n",
              "    </tr>\n",
              "    <tr>\n",
              "      <th>5</th>\n",
              "      <td>76.010050</td>\n",
              "      <td>year</td>\n",
              "      <td>3.697627</td>\n",
              "      <td>13.672443</td>\n",
              "    </tr>\n",
              "    <tr>\n",
              "      <th>6</th>\n",
              "      <td>1.572864</td>\n",
              "      <td>origin</td>\n",
              "      <td>0.802055</td>\n",
              "      <td>0.643292</td>\n",
              "    </tr>\n",
              "  </tbody>\n",
              "</table>\n",
              "</div>"
            ],
            "text/plain": [
              "          mean          name        sdev            var\n",
              "0    23.514573           mpg    7.815984      61.089611\n",
              "1     5.454774     cylinders    1.701004       2.893415\n",
              "2   193.425879  displacement  104.269838   10872.199152\n",
              "3  2970.424623        weight  846.841774  717140.990526\n",
              "4    15.568090  acceleration    2.757689       7.604848\n",
              "5    76.010050          year    3.697627      13.672443\n",
              "6     1.572864        origin    0.802055       0.643292"
            ]
          },
          "metadata": {
            "tags": []
          },
          "execution_count": 17
        }
      ]
    },
    {
      "cell_type": "markdown",
      "metadata": {
        "id": "wZ-EDAb2rchd",
        "colab_type": "text"
      },
      "source": [
        "# Missing Values\n",
        "\n",
        "Dealing with Missing Values is always a factor in Machine Learning. First We will recal the csv and  \n",
        "fill empty values with NAN"
      ]
    },
    {
      "cell_type": "code",
      "metadata": {
        "id": "Astqh_bjvWS7",
        "colab_type": "code",
        "outputId": "1d93e2f4-00e5-4386-b9d4-4bbb02485228",
        "colab": {
          "base_uri": "https://localhost:8080/",
          "height": 78
        }
      },
      "source": [
        "df[32:33]"
      ],
      "execution_count": 0,
      "outputs": [
        {
          "output_type": "execute_result",
          "data": {
            "text/html": [
              "<div>\n",
              "<style scoped>\n",
              "    .dataframe tbody tr th:only-of-type {\n",
              "        vertical-align: middle;\n",
              "    }\n",
              "\n",
              "    .dataframe tbody tr th {\n",
              "        vertical-align: top;\n",
              "    }\n",
              "\n",
              "    .dataframe thead th {\n",
              "        text-align: right;\n",
              "    }\n",
              "</style>\n",
              "<table border=\"1\" class=\"dataframe\">\n",
              "  <thead>\n",
              "    <tr style=\"text-align: right;\">\n",
              "      <th></th>\n",
              "      <th>mpg</th>\n",
              "      <th>cylinders</th>\n",
              "      <th>displacement</th>\n",
              "      <th>horsepower</th>\n",
              "      <th>weight</th>\n",
              "      <th>acceleration</th>\n",
              "      <th>year</th>\n",
              "      <th>origin</th>\n",
              "      <th>name</th>\n",
              "    </tr>\n",
              "  </thead>\n",
              "  <tbody>\n",
              "    <tr>\n",
              "      <th>32</th>\n",
              "      <td>25.0</td>\n",
              "      <td>4</td>\n",
              "      <td>98.0</td>\n",
              "      <td>?</td>\n",
              "      <td>2046</td>\n",
              "      <td>19.0</td>\n",
              "      <td>71</td>\n",
              "      <td>1</td>\n",
              "      <td>ford pinto</td>\n",
              "    </tr>\n",
              "  </tbody>\n",
              "</table>\n",
              "</div>"
            ],
            "text/plain": [
              "     mpg  cylinders  displacement  ... year  origin        name\n",
              "32  25.0          4          98.0  ...   71       1  ford pinto\n",
              "\n",
              "[1 rows x 9 columns]"
            ]
          },
          "metadata": {
            "tags": []
          },
          "execution_count": 34
        }
      ]
    },
    {
      "cell_type": "code",
      "metadata": {
        "id": "m2UjMG-creiK",
        "colab_type": "code",
        "outputId": "5fd565f0-d893-4e07-fbd4-a95da9f70ced",
        "colab": {
          "base_uri": "https://localhost:8080/",
          "height": 35
        }
      },
      "source": [
        "df = pd.read_csv(\n",
        "    \"https://data.heatonresearch.com/data/t81-558/auto-mpg.csv\", \n",
        "    na_values=['NA', '?'])\n",
        "print(f\"Does Horsepower have any na values? {pd.isnull(df['horsepower']).values.any()}\")"
      ],
      "execution_count": 0,
      "outputs": [
        {
          "output_type": "stream",
          "text": [
            "Does Horsepower have any na values? True\n"
          ],
          "name": "stdout"
        }
      ]
    },
    {
      "cell_type": "code",
      "metadata": {
        "id": "IACOaf79tATU",
        "colab_type": "code",
        "outputId": "b9673091-8b0e-4e9f-8783-ed775088e9b0",
        "colab": {
          "base_uri": "https://localhost:8080/",
          "height": 78
        }
      },
      "source": [
        "df[32:33]"
      ],
      "execution_count": 0,
      "outputs": [
        {
          "output_type": "execute_result",
          "data": {
            "text/html": [
              "<div>\n",
              "<style scoped>\n",
              "    .dataframe tbody tr th:only-of-type {\n",
              "        vertical-align: middle;\n",
              "    }\n",
              "\n",
              "    .dataframe tbody tr th {\n",
              "        vertical-align: top;\n",
              "    }\n",
              "\n",
              "    .dataframe thead th {\n",
              "        text-align: right;\n",
              "    }\n",
              "</style>\n",
              "<table border=\"1\" class=\"dataframe\">\n",
              "  <thead>\n",
              "    <tr style=\"text-align: right;\">\n",
              "      <th></th>\n",
              "      <th>mpg</th>\n",
              "      <th>cylinders</th>\n",
              "      <th>displacement</th>\n",
              "      <th>horsepower</th>\n",
              "      <th>weight</th>\n",
              "      <th>acceleration</th>\n",
              "      <th>year</th>\n",
              "      <th>origin</th>\n",
              "      <th>name</th>\n",
              "    </tr>\n",
              "  </thead>\n",
              "  <tbody>\n",
              "    <tr>\n",
              "      <th>32</th>\n",
              "      <td>25.0</td>\n",
              "      <td>4</td>\n",
              "      <td>98.0</td>\n",
              "      <td>NaN</td>\n",
              "      <td>2046</td>\n",
              "      <td>19.0</td>\n",
              "      <td>71</td>\n",
              "      <td>1</td>\n",
              "      <td>ford pinto</td>\n",
              "    </tr>\n",
              "  </tbody>\n",
              "</table>\n",
              "</div>"
            ],
            "text/plain": [
              "     mpg  cylinders  displacement  ...  year  origin        name\n",
              "32  25.0          4          98.0  ...    71       1  ford pinto\n",
              "\n",
              "[1 rows x 9 columns]"
            ]
          },
          "metadata": {
            "tags": []
          },
          "execution_count": 39
        }
      ]
    },
    {
      "cell_type": "markdown",
      "metadata": {
        "id": "NYq9P_U8vtD8",
        "colab_type": "text"
      },
      "source": [
        "Now we will fill these missing values with the median values of horsepower. It is better to use the median than mean due to outliters in the data set."
      ]
    },
    {
      "cell_type": "code",
      "metadata": {
        "id": "fjMFzCQArejH",
        "colab_type": "code",
        "outputId": "2ea08de6-ab91-4494-ca47-c603fff1d426",
        "colab": {
          "base_uri": "https://localhost:8080/",
          "height": 35
        }
      },
      "source": [
        "med = df['horsepower'].median()\n",
        "df['horsepower'] = df['horsepower'].fillna(med)\n",
        "\n",
        "print(f\"Does Horsepower have any na values? {pd.isnull(df['horsepower']).values.any()}\")"
      ],
      "execution_count": 0,
      "outputs": [
        {
          "output_type": "stream",
          "text": [
            "Does Horsepower have any na values? False\n"
          ],
          "name": "stdout"
        }
      ]
    },
    {
      "cell_type": "markdown",
      "metadata": {
        "id": "QYWVw2Qu5g4T",
        "colab_type": "text"
      },
      "source": [
        "# Dealing With Ouliers\n",
        "\n",
        "these are values in the data that are unsually high or low. These tend to be defiend by the value being serval standard deviations away for the mean. "
      ]
    },
    {
      "cell_type": "code",
      "metadata": {
        "id": "cLSzc7hk5772",
        "colab_type": "code",
        "colab": {}
      },
      "source": [
        "# Removes all all rows where the specified column is +/- standard deviations\n",
        "\n",
        "def remove_outliers(df, name, sd):\n",
        "    drop_rows = df.index[(np.abs(df[name] - df[name].mean())\n",
        "                          >= (sd * df[name].std()))]\n",
        "    df.drop(drop_rows, axis=0, inplace=True)\n",
        "  "
      ],
      "execution_count": 0,
      "outputs": []
    },
    {
      "cell_type": "code",
      "metadata": {
        "id": "jeDwFD5p7PY_",
        "colab_type": "code",
        "outputId": "d33d3748-4bd6-48cc-b020-5229b392eb4e",
        "colab": {
          "base_uri": "https://localhost:8080/",
          "height": 235
        }
      },
      "source": [
        "import pandas as pd\n",
        "import os\n",
        "import numpy as np\n",
        "from sklearn import metrics\n",
        "from scipy.stats import zscore\n",
        "\n",
        "df = pd.read_csv(\n",
        "    \"https://data.heatonresearch.com/data/t81-558/auto-mpg.csv\",\n",
        "    na_values=['NA','?'])\n",
        "\n",
        "# create feature vector\n",
        "med = df['horsepower'].median()\n",
        "df['horsepower'] = df['horsepower'].fillna(med)\n",
        "\n",
        "# Drop the name column\n",
        "df.drop('name',1,inplace=True)\n",
        "\n",
        "# Drop outliers in horsepower\n",
        "print(\"Length before MPG outliers dropped: {}\".format(len(df)))\n",
        "remove_outliers(df,'mpg',2)\n",
        "print(\"Length after MPG outliers dropped: {}\".format(len(df)))\n",
        "\n",
        "display(df[0:5])"
      ],
      "execution_count": 0,
      "outputs": [
        {
          "output_type": "stream",
          "text": [
            "Length before MPG outliers dropped: 398\n",
            "Length after MPG outliers dropped: 388\n"
          ],
          "name": "stdout"
        },
        {
          "output_type": "display_data",
          "data": {
            "text/html": [
              "<div>\n",
              "<style scoped>\n",
              "    .dataframe tbody tr th:only-of-type {\n",
              "        vertical-align: middle;\n",
              "    }\n",
              "\n",
              "    .dataframe tbody tr th {\n",
              "        vertical-align: top;\n",
              "    }\n",
              "\n",
              "    .dataframe thead th {\n",
              "        text-align: right;\n",
              "    }\n",
              "</style>\n",
              "<table border=\"1\" class=\"dataframe\">\n",
              "  <thead>\n",
              "    <tr style=\"text-align: right;\">\n",
              "      <th></th>\n",
              "      <th>mpg</th>\n",
              "      <th>cylinders</th>\n",
              "      <th>displacement</th>\n",
              "      <th>horsepower</th>\n",
              "      <th>weight</th>\n",
              "      <th>acceleration</th>\n",
              "      <th>year</th>\n",
              "      <th>origin</th>\n",
              "    </tr>\n",
              "  </thead>\n",
              "  <tbody>\n",
              "    <tr>\n",
              "      <th>0</th>\n",
              "      <td>18.0</td>\n",
              "      <td>8</td>\n",
              "      <td>307.0</td>\n",
              "      <td>130.0</td>\n",
              "      <td>3504</td>\n",
              "      <td>12.0</td>\n",
              "      <td>70</td>\n",
              "      <td>1</td>\n",
              "    </tr>\n",
              "    <tr>\n",
              "      <th>1</th>\n",
              "      <td>15.0</td>\n",
              "      <td>8</td>\n",
              "      <td>350.0</td>\n",
              "      <td>165.0</td>\n",
              "      <td>3693</td>\n",
              "      <td>11.5</td>\n",
              "      <td>70</td>\n",
              "      <td>1</td>\n",
              "    </tr>\n",
              "    <tr>\n",
              "      <th>2</th>\n",
              "      <td>18.0</td>\n",
              "      <td>8</td>\n",
              "      <td>318.0</td>\n",
              "      <td>150.0</td>\n",
              "      <td>3436</td>\n",
              "      <td>11.0</td>\n",
              "      <td>70</td>\n",
              "      <td>1</td>\n",
              "    </tr>\n",
              "    <tr>\n",
              "      <th>3</th>\n",
              "      <td>16.0</td>\n",
              "      <td>8</td>\n",
              "      <td>304.0</td>\n",
              "      <td>150.0</td>\n",
              "      <td>3433</td>\n",
              "      <td>12.0</td>\n",
              "      <td>70</td>\n",
              "      <td>1</td>\n",
              "    </tr>\n",
              "    <tr>\n",
              "      <th>4</th>\n",
              "      <td>17.0</td>\n",
              "      <td>8</td>\n",
              "      <td>302.0</td>\n",
              "      <td>140.0</td>\n",
              "      <td>3449</td>\n",
              "      <td>10.5</td>\n",
              "      <td>70</td>\n",
              "      <td>1</td>\n",
              "    </tr>\n",
              "  </tbody>\n",
              "</table>\n",
              "</div>"
            ],
            "text/plain": [
              "    mpg  cylinders  displacement  ...  acceleration  year  origin\n",
              "0  18.0          8         307.0  ...          12.0    70       1\n",
              "1  15.0          8         350.0  ...          11.5    70       1\n",
              "2  18.0          8         318.0  ...          11.0    70       1\n",
              "3  16.0          8         304.0  ...          12.0    70       1\n",
              "4  17.0          8         302.0  ...          10.5    70       1\n",
              "\n",
              "[5 rows x 8 columns]"
            ]
          },
          "metadata": {
            "tags": []
          }
        }
      ]
    },
    {
      "cell_type": "markdown",
      "metadata": {
        "id": "TTjZrnj37z7q",
        "colab_type": "text"
      },
      "source": [
        "# Dropping Fields\n",
        "\n",
        "some fields have little to know value for the nueral network. These columns will be removed with the code below."
      ]
    },
    {
      "cell_type": "code",
      "metadata": {
        "id": "zl3ATvLTHBxX",
        "colab_type": "code",
        "outputId": "d830d4d8-9974-4985-c963-672df258cc34",
        "colab": {
          "base_uri": "https://localhost:8080/",
          "height": 74
        }
      },
      "source": [
        "import pandas as pd\n",
        "import os\n",
        "\n",
        "\n",
        "df = pd.read_csv(\"https://data.heatonresearch.com/data/t81-558/auto-mpg.csv\",\n",
        "    na_values=['NA','?'])\n",
        "\n",
        "print(f\"Before Droped Columns: {list(df.columns)}\")\n",
        "df.drop('name', 1, inplace=True)\n",
        "print(f\"Before Droped Columns: {list(df.columns)}\")"
      ],
      "execution_count": 0,
      "outputs": [
        {
          "output_type": "stream",
          "text": [
            "Before Droped Columns: ['mpg', 'cylinders', 'displacement', 'horsepower', 'weight', 'acceleration', 'year', 'origin', 'name']\n",
            "Before Droped Columns: ['mpg', 'cylinders', 'displacement', 'horsepower', 'weight', 'acceleration', 'year', 'origin']\n"
          ],
          "name": "stdout"
        }
      ]
    },
    {
      "cell_type": "markdown",
      "metadata": {
        "id": "1H_fkNS6sX2D",
        "colab_type": "text"
      },
      "source": [
        "# Concatenating Row\n",
        "\n",
        "Create new dataframes by combinding row and columns together. "
      ]
    },
    {
      "cell_type": "code",
      "metadata": {
        "id": "kW1EaY6gHC0J",
        "colab_type": "code",
        "outputId": "9a30328f-b533-4d69-bd4d-be05372ce04c",
        "colab": {
          "base_uri": "https://localhost:8080/",
          "height": 198
        }
      },
      "source": [
        "# Create a new dataframe from name and horsepower\n",
        "\n",
        "import os\n",
        "import pandas as pd\n",
        "\n",
        "df = pd.read_csv(\n",
        "    \"https://data.heatonresearch.com/data/t81-558/auto-mpg.csv\",\n",
        "    na_values=['NA','?'])\n",
        "\n",
        "col_horsepower = df['horsepower']\n",
        "col_name = df['name']\n",
        "result = pd.concat([col_name, col_horsepower], axis=1)\n",
        "display(result[0:5])"
      ],
      "execution_count": 0,
      "outputs": [
        {
          "output_type": "display_data",
          "data": {
            "text/html": [
              "<div>\n",
              "<style scoped>\n",
              "    .dataframe tbody tr th:only-of-type {\n",
              "        vertical-align: middle;\n",
              "    }\n",
              "\n",
              "    .dataframe tbody tr th {\n",
              "        vertical-align: top;\n",
              "    }\n",
              "\n",
              "    .dataframe thead th {\n",
              "        text-align: right;\n",
              "    }\n",
              "</style>\n",
              "<table border=\"1\" class=\"dataframe\">\n",
              "  <thead>\n",
              "    <tr style=\"text-align: right;\">\n",
              "      <th></th>\n",
              "      <th>name</th>\n",
              "      <th>horsepower</th>\n",
              "    </tr>\n",
              "  </thead>\n",
              "  <tbody>\n",
              "    <tr>\n",
              "      <th>0</th>\n",
              "      <td>chevrolet chevelle malibu</td>\n",
              "      <td>130.0</td>\n",
              "    </tr>\n",
              "    <tr>\n",
              "      <th>1</th>\n",
              "      <td>buick skylark 320</td>\n",
              "      <td>165.0</td>\n",
              "    </tr>\n",
              "    <tr>\n",
              "      <th>2</th>\n",
              "      <td>plymouth satellite</td>\n",
              "      <td>150.0</td>\n",
              "    </tr>\n",
              "    <tr>\n",
              "      <th>3</th>\n",
              "      <td>amc rebel sst</td>\n",
              "      <td>150.0</td>\n",
              "    </tr>\n",
              "    <tr>\n",
              "      <th>4</th>\n",
              "      <td>ford torino</td>\n",
              "      <td>140.0</td>\n",
              "    </tr>\n",
              "  </tbody>\n",
              "</table>\n",
              "</div>"
            ],
            "text/plain": [
              "                        name  horsepower\n",
              "0  chevrolet chevelle malibu       130.0\n",
              "1          buick skylark 320       165.0\n",
              "2         plymouth satellite       150.0\n",
              "3              amc rebel sst       150.0\n",
              "4                ford torino       140.0"
            ]
          },
          "metadata": {
            "tags": []
          }
        }
      ]
    },
    {
      "cell_type": "code",
      "metadata": {
        "id": "fCg5Tk89ssYJ",
        "colab_type": "code",
        "outputId": "c25e964b-00c0-4eba-dae0-9ff13fb85454",
        "colab": {
          "base_uri": "https://localhost:8080/",
          "height": 220
        }
      },
      "source": [
        "# Create a new dataframe from first 2 rows and last 2 rows\n",
        "\n",
        "import os\n",
        "import pandas as pd\n",
        "\n",
        "df = pd.read_csv(\n",
        "    \"https://data.heatonresearch.com/data/t81-558/auto-mpg.csv\",\n",
        "    na_values=['NA','?'])\n",
        "\n",
        "result = pd.concat([df[0:2],df[-2:]], axis=0)\n",
        "display(result)"
      ],
      "execution_count": 0,
      "outputs": [
        {
          "output_type": "display_data",
          "data": {
            "text/html": [
              "<div>\n",
              "<style scoped>\n",
              "    .dataframe tbody tr th:only-of-type {\n",
              "        vertical-align: middle;\n",
              "    }\n",
              "\n",
              "    .dataframe tbody tr th {\n",
              "        vertical-align: top;\n",
              "    }\n",
              "\n",
              "    .dataframe thead th {\n",
              "        text-align: right;\n",
              "    }\n",
              "</style>\n",
              "<table border=\"1\" class=\"dataframe\">\n",
              "  <thead>\n",
              "    <tr style=\"text-align: right;\">\n",
              "      <th></th>\n",
              "      <th>mpg</th>\n",
              "      <th>cylinders</th>\n",
              "      <th>displacement</th>\n",
              "      <th>horsepower</th>\n",
              "      <th>weight</th>\n",
              "      <th>acceleration</th>\n",
              "      <th>year</th>\n",
              "      <th>origin</th>\n",
              "      <th>name</th>\n",
              "    </tr>\n",
              "  </thead>\n",
              "  <tbody>\n",
              "    <tr>\n",
              "      <th>0</th>\n",
              "      <td>18.0</td>\n",
              "      <td>8</td>\n",
              "      <td>307.0</td>\n",
              "      <td>130.0</td>\n",
              "      <td>3504</td>\n",
              "      <td>12.0</td>\n",
              "      <td>70</td>\n",
              "      <td>1</td>\n",
              "      <td>chevrolet chevelle malibu</td>\n",
              "    </tr>\n",
              "    <tr>\n",
              "      <th>1</th>\n",
              "      <td>15.0</td>\n",
              "      <td>8</td>\n",
              "      <td>350.0</td>\n",
              "      <td>165.0</td>\n",
              "      <td>3693</td>\n",
              "      <td>11.5</td>\n",
              "      <td>70</td>\n",
              "      <td>1</td>\n",
              "      <td>buick skylark 320</td>\n",
              "    </tr>\n",
              "    <tr>\n",
              "      <th>396</th>\n",
              "      <td>28.0</td>\n",
              "      <td>4</td>\n",
              "      <td>120.0</td>\n",
              "      <td>79.0</td>\n",
              "      <td>2625</td>\n",
              "      <td>18.6</td>\n",
              "      <td>82</td>\n",
              "      <td>1</td>\n",
              "      <td>ford ranger</td>\n",
              "    </tr>\n",
              "    <tr>\n",
              "      <th>397</th>\n",
              "      <td>31.0</td>\n",
              "      <td>4</td>\n",
              "      <td>119.0</td>\n",
              "      <td>82.0</td>\n",
              "      <td>2720</td>\n",
              "      <td>19.4</td>\n",
              "      <td>82</td>\n",
              "      <td>1</td>\n",
              "      <td>chevy s-10</td>\n",
              "    </tr>\n",
              "  </tbody>\n",
              "</table>\n",
              "</div>"
            ],
            "text/plain": [
              "      mpg  cylinders  displacement  ...  year  origin                       name\n",
              "0    18.0          8         307.0  ...    70       1  chevrolet chevelle malibu\n",
              "1    15.0          8         350.0  ...    70       1          buick skylark 320\n",
              "396  28.0          4         120.0  ...    82       1                ford ranger\n",
              "397  31.0          4         119.0  ...    82       1                 chevy s-10\n",
              "\n",
              "[4 rows x 9 columns]"
            ]
          },
          "metadata": {
            "tags": []
          }
        }
      ]
    },
    {
      "cell_type": "markdown",
      "metadata": {
        "id": "lKi7ayKJtsy_",
        "colab_type": "text"
      },
      "source": [
        "# Training and Validation\n",
        "\n",
        "it is very important that we evaluate a machine learning model based on its ability to predict data that it has never seen before. Because of this we often divide the training data into a validation and training set. The machine learning model will learn from the training data, but ultimately be evaluated based on the validation data.\n",
        "\n",
        "Training Data - In Sample Data - The data that the machine learning model was fit to/created from.\n",
        "Validation Data - Out of Sample Data - The data that the machine learning model is evaluated upon after it is fit to the training data.\n",
        "There are two predominant means of dealing with training and validation data:\n",
        "\n",
        "Training/Validation Split - The data are split according to some ratio between a training and validation (hold-out) set. Common ratios are 80% training and 20% validation.\n",
        "K-Fold Cross Validation - The data are split into a number of folds and models. Because a number of models equal to the folds is created out-of-sample predictions can be generated for the entire dataset.\n",
        "The code below performs a split of the MPG data into a training and validation set. The training set uses 80% of the data and the validation set uses 20%.\n",
        "\n",
        "The following image shows how a model is trained on 80% of the data and then validated against the remaining 20%.\n"
      ]
    },
    {
      "cell_type": "code",
      "metadata": {
        "id": "CpH6dFSkt7xW",
        "colab_type": "code",
        "outputId": "cca90e7f-21b7-43a7-f345-b36f9df5f149",
        "colab": {
          "base_uri": "https://localhost:8080/",
          "height": 54
        }
      },
      "source": [
        "import os\n",
        "import pandas as pd\n",
        "import numpy as np\n",
        "\n",
        "df = pd.read_csv(\n",
        "    \"https://data.heatonresearch.com/data/t81-558/auto-mpg.csv\",\n",
        "    na_values=['NA','?'])\n",
        "\n",
        "df = df.reindex(np.random.permutation(df.index)) # Usually a good idea to shuffle\n",
        "mask = np.random.rand(len(df)) < 0.8\n",
        "trainDF = pd.DataFrame(df[mask])\n",
        "validationDF = pd.DataFrame(df[~mask])\n",
        "\n",
        "print(f\"Training DF: {len(trainDF)}\")\n",
        "print(f\"Validation DF: {len(validationDF)}\")"
      ],
      "execution_count": 0,
      "outputs": [
        {
          "output_type": "stream",
          "text": [
            "Training DF: 333\n",
            "Validation DF: 65\n"
          ],
          "name": "stdout"
        }
      ]
    },
    {
      "cell_type": "markdown",
      "metadata": {
        "id": "GLTFmjgAt-xt",
        "colab_type": "text"
      },
      "source": [
        "# Converting a Dataframe to a Matrix\n",
        "\n",
        "Converting a Dataframe to a Matrix\n",
        "Neural networks do not directly operate on Python dataframes. A neural network requires a numeric matrix. The values property of a dataframe is used to convert to a matrix."
      ]
    },
    {
      "cell_type": "code",
      "metadata": {
        "id": "EvXzfgzJuBO8",
        "colab_type": "code",
        "outputId": "e5b2df70-b7b5-4c14-8392-79ee27507388",
        "colab": {
          "base_uri": "https://localhost:8080/",
          "height": 163
        }
      },
      "source": [
        "df.values\n"
      ],
      "execution_count": 0,
      "outputs": [
        {
          "output_type": "execute_result",
          "data": {
            "text/plain": [
              "array([[18.5, 8, 360.0, ..., 79, 1,\n",
              "        'chrysler lebaron town @ country (sw)'],\n",
              "       [16.0, 8, 400.0, ..., 77, 1, 'pontiac grand prix lj'],\n",
              "       [15.0, 8, 350.0, ..., 75, 1, 'chevrolet bel air'],\n",
              "       ...,\n",
              "       [16.0, 8, 318.0, ..., 75, 1, 'plymouth grand fury'],\n",
              "       [28.0, 4, 151.0, ..., 80, 1, 'chevrolet citation'],\n",
              "       [22.4, 6, 231.0, ..., 81, 1, 'buick century']], dtype=object)"
            ]
          },
          "metadata": {
            "tags": []
          },
          "execution_count": 62
        }
      ]
    },
    {
      "cell_type": "code",
      "metadata": {
        "id": "Vg15fH3DuEO9",
        "colab_type": "code",
        "outputId": "967a6eae-77c8-4653-cf42-b7670000a12b",
        "colab": {
          "base_uri": "https://localhost:8080/",
          "height": 145
        }
      },
      "source": [
        "df[['mpg', 'cylinders', 'displacement', 'horsepower', 'weight',\n",
        "       'acceleration', 'year', 'origin']].values"
      ],
      "execution_count": 0,
      "outputs": [
        {
          "output_type": "execute_result",
          "data": {
            "text/plain": [
              "array([[ 18.5,   8. , 360. , ...,  13. ,  79. ,   1. ],\n",
              "       [ 16. ,   8. , 400. , ...,  11.1,  77. ,   1. ],\n",
              "       [ 15. ,   8. , 350. , ...,  14. ,  75. ,   1. ],\n",
              "       ...,\n",
              "       [ 16. ,   8. , 318. , ...,  14.5,  75. ,   1. ],\n",
              "       [ 28. ,   4. , 151. , ...,  16.5,  80. ,   1. ],\n",
              "       [ 22.4,   6. , 231. , ...,  15.8,  81. ,   1. ]])"
            ]
          },
          "metadata": {
            "tags": []
          },
          "execution_count": 63
        }
      ]
    },
    {
      "cell_type": "markdown",
      "metadata": {
        "id": "-lmN8hcQuF7f",
        "colab_type": "text"
      },
      "source": [
        "# Saving a Dataframe to CSV\n",
        "Many of the assignments in this course will require that you save a dataframe to submit to the instructor. The following code performs a shuffle and then saves a new copy."
      ]
    },
    {
      "cell_type": "code",
      "metadata": {
        "id": "TdaHmTaJuJ_P",
        "colab_type": "code",
        "outputId": "db1ed6fc-8d61-428a-a526-2ffc7008bc75",
        "colab": {
          "base_uri": "https://localhost:8080/",
          "height": 35
        }
      },
      "source": [
        "import os\n",
        "import pandas as pd\n",
        "import numpy as np\n",
        "\n",
        "path = \".\"\n",
        "\n",
        "df = pd.read_csv(\n",
        "    \"https://data.heatonresearch.com/data/t81-558/auto-mpg.csv\",\n",
        "    na_values=['NA','?'])\n",
        "\n",
        "filename_write = os.path.join(path, \"auto-mpg-shuffle.csv\")\n",
        "df = df.reindex(np.random.permutation(df.index))\n",
        "df.to_csv(filename_write, index=False) # Specify index = false to not write row numbers\n",
        "print(\"Done\")"
      ],
      "execution_count": 0,
      "outputs": [
        {
          "output_type": "stream",
          "text": [
            "Done\n"
          ],
          "name": "stdout"
        }
      ]
    },
    {
      "cell_type": "markdown",
      "metadata": {
        "id": "bbB8FAmauO_r",
        "colab_type": "text"
      },
      "source": [
        "# Saving a Dataframe to Pickle\n",
        "CSV files are text and can be used by a variety of software programs. However, they do take longer to generate and can sometimes lose small amounts of precision in the conversion. Another format is Pickle. Generally you will output to CSV because it is very compatible, even outside of Python. The code below stores the Dataframe to Pickle.\n",
        "\n"
      ]
    },
    {
      "cell_type": "code",
      "metadata": {
        "id": "B4E5hiSnuNPw",
        "colab_type": "code",
        "colab": {}
      },
      "source": [
        "import os\n",
        "import pandas as pd\n",
        "import numpy as np\n",
        "import pickle\n",
        "\n",
        "path = \".\"\n",
        "\n",
        "df = pd.read_csv(\n",
        "    \"https://data.heatonresearch.com/data/t81-558/auto-mpg.csv\",\n",
        "    na_values=['NA','?'])\n",
        "\n",
        "filename_write = os.path.join(path, \"auto-mpg-shuffle.pkl\")\n",
        "df = df.reindex(np.random.permutation(df.index))\n",
        "\n",
        "with open(filename_write,\"wb\") as fp:\n",
        "    pickle.dump(df, fp)\n",
        "\n",
        "print(\"Done\")"
      ],
      "execution_count": 0,
      "outputs": []
    }
  ]
}